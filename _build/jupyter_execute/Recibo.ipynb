{
 "cells": [
  {
   "cell_type": "markdown",
   "id": "ec60e267-f6fd-46a7-991c-4b6f9fd10635",
   "metadata": {},
   "source": [
    "# RECIBO"
   ]
  },
  {
   "cell_type": "code",
   "execution_count": 1,
   "id": "2f167eaa-a049-495a-9549-a1de450cead8",
   "metadata": {},
   "outputs": [],
   "source": [
    "data <- read.csv(\"Data//base.csv\")"
   ]
  },
  {
   "cell_type": "code",
   "execution_count": 2,
   "id": "cb3a4ba5-8f66-465d-809e-9e1e790ea723",
   "metadata": {},
   "outputs": [
    {
     "data": {
      "text/html": [
       "<style>\n",
       ".list-inline {list-style: none; margin:0; padding: 0}\n",
       ".list-inline>li {display: inline-block}\n",
       ".list-inline>li:not(:last-child)::after {content: \"\\00b7\"; padding: 0 .5ex}\n",
       "</style>\n",
       "<ol class=list-inline><li>'Salida de almacén'</li><li>'Contabilización de entrada de mercancías'</li><li>'Entrada en stock'</li><li>'3PL Inventario'</li><li>'3PL Maquila'</li><li>'3PL Sanulac Conteos'</li><li>'3PL Sanulac Embarque'</li><li>'3PL Sanulac Surtido'</li><li>'3PL Surtido Sanfer'</li><li>'3PL Sanfer Embarque'</li><li>'3PL Recibo'</li><li>'3PL Sanofi Surtido'</li><li>'3PL Sanofi Embarque'</li><li>'Embarque'</li></ol>\n"
      ],
      "text/latex": [
       "\\begin{enumerate*}\n",
       "\\item 'Salida de almacén'\n",
       "\\item 'Contabilización de entrada de mercancías'\n",
       "\\item 'Entrada en stock'\n",
       "\\item '3PL Inventario'\n",
       "\\item '3PL Maquila'\n",
       "\\item '3PL Sanulac Conteos'\n",
       "\\item '3PL Sanulac Embarque'\n",
       "\\item '3PL Sanulac Surtido'\n",
       "\\item '3PL Surtido Sanfer'\n",
       "\\item '3PL Sanfer Embarque'\n",
       "\\item '3PL Recibo'\n",
       "\\item '3PL Sanofi Surtido'\n",
       "\\item '3PL Sanofi Embarque'\n",
       "\\item 'Embarque'\n",
       "\\end{enumerate*}\n"
      ],
      "text/markdown": [
       "1. 'Salida de almacén'\n",
       "2. 'Contabilización de entrada de mercancías'\n",
       "3. 'Entrada en stock'\n",
       "4. '3PL Inventario'\n",
       "5. '3PL Maquila'\n",
       "6. '3PL Sanulac Conteos'\n",
       "7. '3PL Sanulac Embarque'\n",
       "8. '3PL Sanulac Surtido'\n",
       "9. '3PL Surtido Sanfer'\n",
       "10. '3PL Sanfer Embarque'\n",
       "11. '3PL Recibo'\n",
       "12. '3PL Sanofi Surtido'\n",
       "13. '3PL Sanofi Embarque'\n",
       "14. 'Embarque'\n",
       "\n",
       "\n"
      ],
      "text/plain": [
       " [1] \"Salida de almacén\"                       \n",
       " [2] \"Contabilización de entrada de mercancías\"\n",
       " [3] \"Entrada en stock\"                        \n",
       " [4] \"3PL Inventario\"                          \n",
       " [5] \"3PL Maquila\"                             \n",
       " [6] \"3PL Sanulac Conteos\"                     \n",
       " [7] \"3PL Sanulac Embarque\"                    \n",
       " [8] \"3PL Sanulac Surtido\"                     \n",
       " [9] \"3PL Surtido Sanfer\"                      \n",
       "[10] \"3PL Sanfer Embarque\"                     \n",
       "[11] \"3PL Recibo\"                              \n",
       "[12] \"3PL Sanofi Surtido\"                      \n",
       "[13] \"3PL Sanofi Embarque\"                     \n",
       "[14] \"Embarque\"                                "
      ]
     },
     "metadata": {},
     "output_type": "display_data"
    }
   ],
   "source": [
    "unique(data$Proceso)"
   ]
  },
  {
   "cell_type": "code",
   "execution_count": 3,
   "id": "3239f6a0-f3bd-4c2b-8a5e-d228a2d54e60",
   "metadata": {},
   "outputs": [
    {
     "data": {
      "image/png": "[encoded data removed]",
      "text/plain": [
       "Plot with title \"Histogram of data$Piezas[data$Proceso == \"Contabilización de entrada de mercancías\"]\""
      ]
     },
     "metadata": {
      "filenames": {
       "image/png": "C:\\Users\\Usuario\\Desktop\\Daniel\\UBICTUM\\JBook_MCyP\\_build\\jupyter_execute\\Recibo_3_0.png"
      },
      "image/png": {
       "height": 420,
       "width": 420
      }
     },
     "output_type": "display_data"
    }
   ],
   "source": [
    "hist(data$Piezas[ data$Proceso == \"Contabilización de entrada de mercancías\" ])"
   ]
  },
  {
   "cell_type": "code",
   "execution_count": null,
   "id": "6bc05e3f-450f-4b38-84fc-5e8f6b0db7cf",
   "metadata": {},
   "outputs": [],
   "source": []
  }
 ],
 "metadata": {
  "kernelspec": {
   "display_name": "R",
   "language": "R",
   "name": "ir"
  },
  "language_info": {
   "codemirror_mode": "r",
   "file_extension": ".r",
   "mimetype": "text/x-r-source",
   "name": "R",
   "pygments_lexer": "r",
   "version": "4.1.3"
  }
 },
 "nbformat": 4,
 "nbformat_minor": 5
}